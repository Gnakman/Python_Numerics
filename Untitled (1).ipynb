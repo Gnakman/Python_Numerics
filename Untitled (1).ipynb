{
 "cells": [
  {
   "cell_type": "markdown",
   "metadata": {},
   "source": [
    "# Assignment from Numerical Fluid Dynamics MIT_Opencourseware regarding effective wavenumber"
   ]
  },
  {
   "cell_type": "code",
   "execution_count": 11,
   "metadata": {},
   "outputs": [
    {
     "data": {
      "text/plain": [
       "<matplotlib.legend.Legend at 0x18eecf48>"
      ]
     },
     "execution_count": 11,
     "metadata": {},
     "output_type": "execute_result"
    },
    {
     "data": {
      "image/png": "[encoded data removed]",
      "text/plain": [
       "<Figure size 432x288 with 1 Axes>"
      ]
     },
     "metadata": {
      "needs_background": "light"
     },
     "output_type": "display_data"
    }
   ],
   "source": [
    "import numpy as np\n",
    "from matplotlib import pyplot\n",
    "\n",
    "kx = np.linspace(0,np.pi,100)\n",
    "y = (2*np.cos(kx) - 2)*-1\n",
    "yy = (8/3*np.cos(kx)  - 1/6*np.cos(2*kx) -5/2)*-1\n",
    "yyy = 6*(2*np.cos(kx)-2)/(-np.cos(kx)-5)\n",
    "pyplot.plot(kx, y,    label = '2nd-CD')\n",
    "pyplot.plot(kx, yy,   label = '4th-CD')\n",
    "pyplot.plot(kx, yyy,  label = '4th-Pade')\n",
    "pyplot.xlabel('kdx')\n",
    "pyplot.ylabel('k^2dx^2')\n",
    "\n",
    "pyplot.legend()\n",
    "\n",
    "\n"
   ]
  },
  {
   "cell_type": "raw",
   "metadata": {},
   "source": [
    "You can see that 4th-order Pade scheme retains the wave form for the longest time? \n",
    "We can see the implication of such behavior by actually employing these schemes.\n",
    "u_tt=c^2*u_xx"
   ]
  },
  {
   "cell_type": "code",
   "execution_count": 87,
   "metadata": {},
   "outputs": [
    {
     "data": {
      "text/plain": [
       "[<matplotlib.lines.Line2D at 0x1a7c4948>]"
      ]
     },
     "execution_count": 87,
     "metadata": {},
     "output_type": "execute_result"
    },
    {
     "data": {
      "image/png": "[encoded data removed]",
      "text/plain": [
       "<Figure size 432x288 with 1 Axes>"
      ]
     },
     "metadata": {
      "needs_background": "light"
     },
     "output_type": "display_data"
    }
   ],
   "source": [
    "# 2nd order cental time and 2nd order central spatial \n",
    "# From MIT Opencourseware Numerical Fluid Mechanics\n",
    "import numpy as np\n",
    "from matplotlib import pyplot\n",
    "\n",
    "L = 10 \n",
    "T = 10  \n",
    "c= 1.5 \n",
    "N = 100 \n",
    "h = L/N\n",
    "M = 400 \n",
    "k = T/M  \n",
    "C = c*k/h \n",
    "Lf = 0.5\n",
    "x = np.linspace(0,L,N)\n",
    "t = np.linspace(0,T,M)\n",
    "u = np.zeros(N)\n",
    "un = np.zeros(N)\n",
    "\n",
    "f = lambda x: np.exp(-0.5*(5-x)**2/.5/.5)*np.cos((x-5)*np.pi)\n",
    "un[0:N] = f(x[0:N]) \n",
    "\n",
    "\n",
    "\n",
    "# scalar\n",
    "for i in range(1,N-1):\n",
    "    u[i] = (1-C**2)*un[i] + C**2*(un[i-1]+un[i+1])/2\n",
    "\n",
    "\n",
    "\n",
    "\n",
    "\n",
    "#for n in range(0,M):\n",
    "#    un = u.copy()\n",
    "#    unn = un.copy()\n",
    "#    for i in range(1,N-1):\n",
    "#        u[i] = (2-2*C**2)*un[i] + C**2*(un[i-1]+un[i+1]) - unn[i]\n",
    "        \n",
    "for n in range(0,M):\n",
    "    un = u.copy()\n",
    "    unn = un.copy()\n",
    "    u[1:-1] = (2-2*C**2)*un[1:-1] + C**2*(un[0:-2]+un[2:]) - unn[1:-1]\n",
    "\n",
    "pyplot.plot(x,u)\n",
    "        \n",
    "\n",
    "    \n",
    "\n",
    "\n",
    "\n",
    "\n"
   ]
  },
  {
   "cell_type": "code",
   "execution_count": null,
   "metadata": {},
   "outputs": [],
   "source": [
    "# 4th order cental time and 2nd order central spatial \n",
    "import numpy as np\n",
    "from matplotlib import pyplot\n",
    "\n",
    "L = 10 \n",
    "T = 10  \n",
    "c= 1.5 \n",
    "N = 100 \n",
    "h = L/N\n",
    "M = 400 \n",
    "k = T/M  \n",
    "C = c*k/h \n",
    "Lf = 0.5\n",
    "x = np.linspace(0,L,N)\n",
    "t = np.linspace(0,T,M)\n",
    "u = np.zeros(N)\n",
    "un = np.zeros(N)\n",
    "\n",
    "f = lambda x: np.exp(-0.5*(5-x)**2/.5/.5)*np.cos((x-5)*np.pi)\n",
    "un[0:N] = f(x[0:N]) \n",
    "\n",
    "\n",
    "\n",
    "# scalar\n",
    "for i in range(1,N-1):\n",
    "    u[i] = (1-C**2)*un[i] + C**2*(un[i-1]+un[i+1])/2\n",
    "\n",
    "\n",
    "\n",
    "\n",
    "\n",
    "#for n in range(0,M):\n",
    "#    un = u.copy()\n",
    "#    unn = un.copy()\n",
    "#    for i in range(1,N-1):\n",
    "#        u[i] = (2-2*C**2)*un[i] + C**2*(un[i-1]+un[i+1]) - unn[i]\n",
    "        \n",
    "for n in range(0,M):\n",
    "    un = u.copy()\n",
    "    unn = un.copy()\n",
    "    u[1:-1] = (2-2*C**2)*un[1:-1] + C**2*(un[0:-2]+un[2:]) - unn[1:-1]"
   ]
  },
  {
   "cell_type": "code",
   "execution_count": null,
   "metadata": {},
   "outputs": [],
   "source": []
  },
  {
   "cell_type": "code",
   "execution_count": null,
   "metadata": {},
   "outputs": [],
   "source": []
  },
  {
   "cell_type": "code",
   "execution_count": null,
   "metadata": {},
   "outputs": [],
   "source": []
  }
 ],
 "metadata": {
  "kernelspec": {
   "display_name": "Python 3",
   "language": "python",
   "name": "python3"
  },
  "language_info": {
   "codemirror_mode": {
    "name": "ipython",
    "version": 3
   },
   "file_extension": ".py",
   "mimetype": "text/x-python",
   "name": "python",
   "nbconvert_exporter": "python",
   "pygments_lexer": "ipython3",
   "version": "3.7.4"
  }
 },
 "nbformat": 4,
 "nbformat_minor": 2
}
