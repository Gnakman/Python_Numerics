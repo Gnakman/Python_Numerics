{
 "cells": [
  {
   "cell_type": "markdown",
   "metadata": {},
   "source": [
    "# Higher-order FD schemes applied to the wave equation"
   ]
  },
  {
   "cell_type": "markdown",
   "metadata": {},
   "source": [
    "u_t + c*u_x = 0\n",
    "\n",
    "I.C:\n",
    "\n",
    " u(x,0) = sin(4pix); 0 <= x < 0.25\n",
    " u(x,0) = sin(4pi(x-0.25)); 0 <= x < 0.25\n",
    " u(x,0) = 0 ; 0.25<=x <= 1\n",
    " \n",
    "B.C: Periodic\n",
    "\n",
    "a. 601 temportal nodes & 51 spatial nodes\n",
    "\n",
    " i) using explicit 1st order forward time and 1st order backward space\n",
    " ii) using implicit 1st order backward time and 2nd order central space\n",
    " iii) plot solution at t =[0,2,4,6] and comment on the result\n",
    " \n",
    "b. Repeat question a but using 201 temporal nodes and 101 spatial nodes comment regarding stability and CFL condition\n",
    " "
   ]
  },
  {
   "cell_type": "code",
   "execution_count": 54,
   "metadata": {},
   "outputs": [
    {
     "data": {
      "text/plain": [
       "[<matplotlib.lines.Line2D at 0x1c23e648>]"
      ]
     },
     "execution_count": 54,
     "metadata": {},
     "output_type": "execute_result"
    },
    {
     "data": {
      "image/png": "[encoded data removed]",
      "text/plain": [
       "<Figure size 432x288 with 1 Axes>"
      ]
     },
     "metadata": {
      "needs_background": "light"
     },
     "output_type": "display_data"
    }
   ],
   "source": [
    "import numpy as np\n",
    "import matplotlib.pyplot as plt\n",
    "c = 0.5\n",
    "L = 1\n",
    "T = 6\n",
    "Nx = 51\n",
    "Nt = 601\n",
    "x = np.linspace(0,L,Nx)\n",
    "t = np.linspace(0,T,Nt)\n",
    "\n",
    "dx = x[1] - x[0]\n",
    "dt = t[1] - t[0]\n",
    "\n",
    "C = c*dt/dx\n",
    "u = np.zeros(Nx) \n",
    "un = np.zeros(Nx)\n",
    "u[0:int(Nx*.25)] = np.sin(4*np.pi*x[0:int(Nx*.25)])\n",
    "u[int((Nx+1)*.25):int(.5*Nx)]= np.sin(4*np.pi*(x[int((Nx+1)*.25):int(.5*Nx)]-0.25))\n",
    "un = u.copy()\n",
    "\n",
    "for n in range(0,Nt):\n",
    "    un = u.copy()\n",
    "    for i in range(1,Nx):\n",
    "        u[i] = un[i]*(1-C)+C*u[i-1]\n",
    "        u[0] = u[-1]\n",
    "        \n",
    "plt.plot(x,u)\n",
    "\n"
   ]
  },
  {
   "cell_type": "code",
   "execution_count": null,
   "metadata": {},
   "outputs": [],
   "source": []
  }
 ],
 "metadata": {
  "kernelspec": {
   "display_name": "Python 3",
   "language": "python",
   "name": "python3"
  },
  "language_info": {
   "codemirror_mode": {
    "name": "ipython",
    "version": 3
   },
   "file_extension": ".py",
   "mimetype": "text/x-python",
   "name": "python",
   "nbconvert_exporter": "python",
   "pygments_lexer": "ipython3",
   "version": "3.7.4"
  }
 },
 "nbformat": 4,
 "nbformat_minor": 2
}
